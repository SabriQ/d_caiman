{
 "cells": [
  {
   "cell_type": "code",
   "execution_count": null,
   "metadata": {},
   "outputs": [],
   "source": [
    "import numpy as np\n",
    "import glob\n",
    "import re\n",
    "import os\n",
    "animal_id='191126'\n",
    "dateDir='/home/qiushou/Miniscope_Chenhaoshan/RawData'\n",
    "datenames=np.sort(os.listdir(dateDir))\n",
    "msFileList=[]\n",
    "for datename in datenames:\n",
    "    animaldir=os.path.join(os.path.join(dateDir,datename),animal_id)\n",
    "    dirnames=os.listdir(animaldir)\n",
    "    hours=[]\n",
    "    minutes=[]\n",
    "    seconds=[]\n",
    "    for name in dirnames:\n",
    "        timetemp=re.findall(r'\\d+', name)\n",
    "        hours.append(int(timetemp[0]))\n",
    "        minutes.append(int(timetemp[1]))\n",
    "        seconds.append(int(timetemp[2]))\n",
    "    ind=np.lexsort((seconds,minutes,hours))  \n",
    "    dirnames_sorted=[dirnames[i] for i in ind]  \n",
    "    for msFilePath in dirnames_sorted:\n",
    "        msFilePath=os.path.join(animaldir,msFilePath)\n",
    "        msFilenametemp = sorted(glob.glob(os.path.join(msFilePath,'*.AVI')))\n",
    "        msFilename=[i for i in msFilenametemp if \"p.AVI\" not in i]\n",
    "        filenum=[]\n",
    "        for file in msFilename:\n",
    "            filenum.append(int(re.split(r'(\\d+)',file.rsplit('/',-1)[-1].rsplit('.',1)[0])[1]))\n",
    "        msFileList.append([msFilename[i] for i in np.argsort(filenum)])\n",
    "msFileList=np.hstack(msFileList).tolist()\n",
    "newpath_parent=os.path.join(os.path.split(dateDir)[0],'Results'+'_'+animal_id)\n",
    "msFileList\n",
    "\n",
    "result_path=glob.glob(os.path.join(os.path.split(dateDir)[0],'Results_'+animal_id+'/*'))[0]\n",
    "\n",
    "import shutil\n",
    "for i,vidfile in enumerate(msFileList):\n",
    "    #shutil.copy(vidfile,os.path.join(result_path,'behave_video'+str(i+1)+'.AVI'))\n",
    "    print(os.path.join(result_path,'behave_video'+str(i+1)+'.AVI') + ' copied')"
   ]
  },
  {
   "cell_type": "code",
   "execution_count": null,
   "metadata": {},
   "outputs": [],
   "source": []
  }
 ],
 "metadata": {
  "kernelspec": {
   "display_name": "Python 3",
   "language": "python",
   "name": "python3"
  },
  "language_info": {
   "codemirror_mode": {
    "name": "ipython",
    "version": 3
   },
   "file_extension": ".py",
   "mimetype": "text/x-python",
   "name": "python",
   "nbconvert_exporter": "python",
   "pygments_lexer": "ipython3",
   "version": "3.7.1"
  }
 },
 "nbformat": 4,
 "nbformat_minor": 2
}

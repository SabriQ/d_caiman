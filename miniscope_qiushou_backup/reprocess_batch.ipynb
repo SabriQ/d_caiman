{
 "cells": [
  {
   "cell_type": "code",
   "execution_count": 6,
   "metadata": {},
   "outputs": [
    {
     "name": "stderr",
     "output_type": "stream",
     "text": [
      "     4475272 [__init__.py:         pylab_setup():90] [10823] backend Qt5Agg version 5.6\n"
     ]
    },
    {
     "name": "stdout",
     "output_type": "stream",
     "text": [
      "The autoreload extension is already loaded. To reload it, use:\n",
      "  %reload_ext autoreload\n"
     ]
    }
   ],
   "source": [
    "try:\n",
    "    get_ipython().magic(u'load_ext autoreload')\n",
    "    get_ipython().magic(u'autoreload 2')\n",
    "    get_ipython().magic(u'matplotlib qt')\n",
    "except:\n",
    "    pass\n",
    "\n",
    "import logging\n",
    "import matplotlib.pyplot as plt\n",
    "import numpy as np\n",
    "\n",
    "logging.basicConfig(format=\n",
    "                          \"%(relativeCreated)12d [%(filename)s:%(funcName)20s():%(lineno)s] [%(process)d] %(message)s\",\n",
    "                    # filename=\"/tmp/caiman.log\",\n",
    "                    level=logging.DEBUG)\n",
    "\n",
    "import caiman as cm\n",
    "from caiman.source_extraction import cnmf\n",
    "from caiman.utils.visualization import inspect_correlation_pnr, nb_inspect_correlation_pnr\n",
    "from caiman.motion_correction import MotionCorrect\n",
    "from caiman.source_extraction.cnmf import params as params\n",
    "from caiman.utils.visualization import plot_contours, nb_view_patches, nb_plot_contour\n",
    "import cv2\n",
    "\n",
    "try:\n",
    "    cv2.setNumThreads(0)\n",
    "except:\n",
    "    pass\n"
   ]
  },
  {
   "cell_type": "code",
   "execution_count": 7,
   "metadata": {},
   "outputs": [
    {
     "name": "stderr",
     "output_type": "stream",
     "text": [
      "     4481150 [cluster.py:         stop_server():358] [10823] stop_cluster(): done\n"
     ]
    }
   ],
   "source": [
    "import glob\n",
    "import re\n",
    "import os\n",
    "import h5py\n",
    "\n",
    "if 'dview' in locals():\n",
    "    cm.stop_server(dview=dview)\n",
    "c, dview, n_processes = cm.cluster.setup_cluster(\n",
    "    backend='local', n_processes=None, single_thread=False)"
   ]
  },
  {
   "cell_type": "code",
   "execution_count": 8,
   "metadata": {},
   "outputs": [
    {
     "name": "stderr",
     "output_type": "stream",
     "text": [
      "/home/qiushou/.conda/envs/caiman/lib/python3.7/site-packages/h5py/_hl/dataset.py:313: H5pyDeprecationWarning: dataset.value has been deprecated. Use dataset[()] instead.\n",
      "  \"Use dataset[()] instead.\", H5pyDeprecationWarning)\n",
      "     4566510 [utilities.py:        detrend_df_f():347] [10823] Background components not present. Results should not be interpreted as DF/F normalized but only as detrended.\n",
      "/home/qiushou/.conda/envs/caiman/lib/python3.7/site-packages/h5py/_hl/dataset.py:313: H5pyDeprecationWarning: dataset.value has been deprecated. Use dataset[()] instead.\n",
      "  \"Use dataset[()] instead.\", H5pyDeprecationWarning)\n",
      "     4638017 [utils.py:recursively_save_dict_contents_to_group():447] [10823] A is sparse ****\n",
      "     4640202 [utils.py:recursively_save_dict_contents_to_group():414] [10823] g is an object type\n",
      "     4640207 [utils.py:recursively_save_dict_contents_to_group():422] [10823] ['groups', 'idx_tot', 'ind_A', 'Ab_epoch', 'coordinates', 'loaded_model', 'optional_outputs', 'merged_ROIs', '** not saved']\n",
      "     4640208 [utils.py:recursively_save_dict_contents_to_group():422] [10823] ['groups', 'idx_tot', 'ind_A', 'Ab_epoch', 'coordinates', 'loaded_model', 'optional_outputs', 'merged_ROIs', '** not saved']\n",
      "     4640791 [utils.py:recursively_save_dict_contents_to_group():422] [10823] ['groups', 'idx_tot', 'ind_A', 'Ab_epoch', 'coordinates', 'loaded_model', 'optional_outputs', 'merged_ROIs', '** not saved']\n",
      "/home/qiushou/.conda/envs/caiman/lib/python3.7/site-packages/h5py/_hl/dataset.py:313: H5pyDeprecationWarning: dataset.value has been deprecated. Use dataset[()] instead.\n",
      "  \"Use dataset[()] instead.\", H5pyDeprecationWarning)\n",
      "     4644040 [utilities.py:        detrend_df_f():347] [10823] Background components not present. Results should not be interpreted as DF/F normalized but only as detrended.\n",
      "/home/qiushou/.conda/envs/caiman/lib/python3.7/site-packages/h5py/_hl/dataset.py:313: H5pyDeprecationWarning: dataset.value has been deprecated. Use dataset[()] instead.\n",
      "  \"Use dataset[()] instead.\", H5pyDeprecationWarning)\n",
      "     4690012 [utils.py:recursively_save_dict_contents_to_group():447] [10823] A is sparse ****\n",
      "     4691477 [utils.py:recursively_save_dict_contents_to_group():414] [10823] g is an object type\n",
      "     4691502 [utils.py:recursively_save_dict_contents_to_group():422] [10823] ['groups', 'idx_tot', 'ind_A', 'Ab_epoch', 'coordinates', 'loaded_model', 'optional_outputs', 'merged_ROIs', '** not saved']\n",
      "     4691503 [utils.py:recursively_save_dict_contents_to_group():422] [10823] ['groups', 'idx_tot', 'ind_A', 'Ab_epoch', 'coordinates', 'loaded_model', 'optional_outputs', 'merged_ROIs', '** not saved']\n",
      "     4691924 [utils.py:recursively_save_dict_contents_to_group():422] [10823] ['groups', 'idx_tot', 'ind_A', 'Ab_epoch', 'coordinates', 'loaded_model', 'optional_outputs', 'merged_ROIs', '** not saved']\n"
     ]
    },
    {
     "name": "stdout",
     "output_type": "stream",
     "text": [
      "Done 191082\n"
     ]
    },
    {
     "name": "stderr",
     "output_type": "stream",
     "text": [
      "/home/qiushou/.conda/envs/caiman/lib/python3.7/site-packages/h5py/_hl/dataset.py:313: H5pyDeprecationWarning: dataset.value has been deprecated. Use dataset[()] instead.\n",
      "  \"Use dataset[()] instead.\", H5pyDeprecationWarning)\n",
      "     4696796 [utilities.py:        detrend_df_f():347] [10823] Background components not present. Results should not be interpreted as DF/F normalized but only as detrended.\n",
      "/home/qiushou/.conda/envs/caiman/lib/python3.7/site-packages/h5py/_hl/dataset.py:313: H5pyDeprecationWarning: dataset.value has been deprecated. Use dataset[()] instead.\n",
      "  \"Use dataset[()] instead.\", H5pyDeprecationWarning)\n",
      "     4775114 [utils.py:recursively_save_dict_contents_to_group():447] [10823] A is sparse ****\n",
      "     4777165 [utils.py:recursively_save_dict_contents_to_group():414] [10823] g is an object type\n",
      "     4777170 [utils.py:recursively_save_dict_contents_to_group():422] [10823] ['groups', 'idx_tot', 'ind_A', 'Ab_epoch', 'coordinates', 'loaded_model', 'optional_outputs', 'merged_ROIs', '** not saved']\n",
      "     4777170 [utils.py:recursively_save_dict_contents_to_group():422] [10823] ['groups', 'idx_tot', 'ind_A', 'Ab_epoch', 'coordinates', 'loaded_model', 'optional_outputs', 'merged_ROIs', '** not saved']\n",
      "     4777757 [utils.py:recursively_save_dict_contents_to_group():422] [10823] ['groups', 'idx_tot', 'ind_A', 'Ab_epoch', 'coordinates', 'loaded_model', 'optional_outputs', 'merged_ROIs', '** not saved']\n",
      "/home/qiushou/.conda/envs/caiman/lib/python3.7/site-packages/h5py/_hl/dataset.py:313: H5pyDeprecationWarning: dataset.value has been deprecated. Use dataset[()] instead.\n",
      "  \"Use dataset[()] instead.\", H5pyDeprecationWarning)\n",
      "     4781111 [utilities.py:        detrend_df_f():347] [10823] Background components not present. Results should not be interpreted as DF/F normalized but only as detrended.\n",
      "/home/qiushou/.conda/envs/caiman/lib/python3.7/site-packages/h5py/_hl/dataset.py:313: H5pyDeprecationWarning: dataset.value has been deprecated. Use dataset[()] instead.\n",
      "  \"Use dataset[()] instead.\", H5pyDeprecationWarning)\n",
      "     4830549 [utils.py:recursively_save_dict_contents_to_group():447] [10823] A is sparse ****\n",
      "     4832051 [utils.py:recursively_save_dict_contents_to_group():414] [10823] g is an object type\n",
      "     4832065 [utils.py:recursively_save_dict_contents_to_group():422] [10823] ['groups', 'idx_tot', 'ind_A', 'Ab_epoch', 'coordinates', 'loaded_model', 'optional_outputs', 'merged_ROIs', '** not saved']\n",
      "     4832066 [utils.py:recursively_save_dict_contents_to_group():422] [10823] ['groups', 'idx_tot', 'ind_A', 'Ab_epoch', 'coordinates', 'loaded_model', 'optional_outputs', 'merged_ROIs', '** not saved']\n",
      "     4832589 [utils.py:recursively_save_dict_contents_to_group():422] [10823] ['groups', 'idx_tot', 'ind_A', 'Ab_epoch', 'coordinates', 'loaded_model', 'optional_outputs', 'merged_ROIs', '** not saved']\n"
     ]
    },
    {
     "name": "stdout",
     "output_type": "stream",
     "text": [
      "Done 191085\n"
     ]
    },
    {
     "name": "stderr",
     "output_type": "stream",
     "text": [
      "/home/qiushou/.conda/envs/caiman/lib/python3.7/site-packages/h5py/_hl/dataset.py:313: H5pyDeprecationWarning: dataset.value has been deprecated. Use dataset[()] instead.\n",
      "  \"Use dataset[()] instead.\", H5pyDeprecationWarning)\n",
      "     4845146 [utilities.py:        detrend_df_f():347] [10823] Background components not present. Results should not be interpreted as DF/F normalized but only as detrended.\n",
      "/home/qiushou/.conda/envs/caiman/lib/python3.7/site-packages/h5py/_hl/dataset.py:313: H5pyDeprecationWarning: dataset.value has been deprecated. Use dataset[()] instead.\n",
      "  \"Use dataset[()] instead.\", H5pyDeprecationWarning)\n",
      "     5039614 [utils.py:recursively_save_dict_contents_to_group():447] [10823] A is sparse ****\n",
      "     5044469 [utils.py:recursively_save_dict_contents_to_group():414] [10823] g is an object type\n",
      "     5044475 [utils.py:recursively_save_dict_contents_to_group():422] [10823] ['groups', 'idx_tot', 'ind_A', 'Ab_epoch', 'coordinates', 'loaded_model', 'optional_outputs', 'merged_ROIs', '** not saved']\n",
      "     5044476 [utils.py:recursively_save_dict_contents_to_group():422] [10823] ['groups', 'idx_tot', 'ind_A', 'Ab_epoch', 'coordinates', 'loaded_model', 'optional_outputs', 'merged_ROIs', '** not saved']\n",
      "     5046057 [utils.py:recursively_save_dict_contents_to_group():422] [10823] ['groups', 'idx_tot', 'ind_A', 'Ab_epoch', 'coordinates', 'loaded_model', 'optional_outputs', 'merged_ROIs', '** not saved']\n"
     ]
    },
    {
     "name": "stdout",
     "output_type": "stream",
     "text": [
      "No file named result.hdf5 in /media/qiushou/Seagate Backup Plus Drive/Miniscope_Chenhaoshan/Results_191086/20191011_144105\n",
      "Done 191086\n"
     ]
    },
    {
     "name": "stderr",
     "output_type": "stream",
     "text": [
      "/home/qiushou/.conda/envs/caiman/lib/python3.7/site-packages/h5py/_hl/dataset.py:313: H5pyDeprecationWarning: dataset.value has been deprecated. Use dataset[()] instead.\n",
      "  \"Use dataset[()] instead.\", H5pyDeprecationWarning)\n",
      "     5056975 [utilities.py:        detrend_df_f():347] [10823] Background components not present. Results should not be interpreted as DF/F normalized but only as detrended.\n",
      "/home/qiushou/.conda/envs/caiman/lib/python3.7/site-packages/h5py/_hl/dataset.py:313: H5pyDeprecationWarning: dataset.value has been deprecated. Use dataset[()] instead.\n",
      "  \"Use dataset[()] instead.\", H5pyDeprecationWarning)\n",
      "     5155701 [utils.py:recursively_save_dict_contents_to_group():447] [10823] A is sparse ****\n",
      "     5158300 [utils.py:recursively_save_dict_contents_to_group():414] [10823] g is an object type\n",
      "     5158309 [utils.py:recursively_save_dict_contents_to_group():422] [10823] ['groups', 'idx_tot', 'ind_A', 'Ab_epoch', 'coordinates', 'loaded_model', 'optional_outputs', 'merged_ROIs', '** not saved']\n",
      "     5158310 [utils.py:recursively_save_dict_contents_to_group():422] [10823] ['groups', 'idx_tot', 'ind_A', 'Ab_epoch', 'coordinates', 'loaded_model', 'optional_outputs', 'merged_ROIs', '** not saved']\n",
      "     5159049 [utils.py:recursively_save_dict_contents_to_group():422] [10823] ['groups', 'idx_tot', 'ind_A', 'Ab_epoch', 'coordinates', 'loaded_model', 'optional_outputs', 'merged_ROIs', '** not saved']\n",
      "/home/qiushou/.conda/envs/caiman/lib/python3.7/site-packages/h5py/_hl/dataset.py:313: H5pyDeprecationWarning: dataset.value has been deprecated. Use dataset[()] instead.\n",
      "  \"Use dataset[()] instead.\", H5pyDeprecationWarning)\n",
      "     5161029 [utilities.py:        detrend_df_f():347] [10823] Background components not present. Results should not be interpreted as DF/F normalized but only as detrended.\n",
      "/home/qiushou/.conda/envs/caiman/lib/python3.7/site-packages/h5py/_hl/dataset.py:313: H5pyDeprecationWarning: dataset.value has been deprecated. Use dataset[()] instead.\n",
      "  \"Use dataset[()] instead.\", H5pyDeprecationWarning)\n",
      "     5212212 [utils.py:recursively_save_dict_contents_to_group():447] [10823] A is sparse ****\n",
      "     5213811 [utils.py:recursively_save_dict_contents_to_group():414] [10823] g is an object type\n",
      "     5213830 [utils.py:recursively_save_dict_contents_to_group():422] [10823] ['groups', 'idx_tot', 'ind_A', 'Ab_epoch', 'coordinates', 'loaded_model', 'optional_outputs', 'merged_ROIs', '** not saved']\n",
      "     5213831 [utils.py:recursively_save_dict_contents_to_group():422] [10823] ['groups', 'idx_tot', 'ind_A', 'Ab_epoch', 'coordinates', 'loaded_model', 'optional_outputs', 'merged_ROIs', '** not saved']\n",
      "     5214225 [utils.py:recursively_save_dict_contents_to_group():422] [10823] ['groups', 'idx_tot', 'ind_A', 'Ab_epoch', 'coordinates', 'loaded_model', 'optional_outputs', 'merged_ROIs', '** not saved']\n"
     ]
    },
    {
     "name": "stdout",
     "output_type": "stream",
     "text": [
      "Done 191087\n"
     ]
    },
    {
     "name": "stderr",
     "output_type": "stream",
     "text": [
      "/home/qiushou/.conda/envs/caiman/lib/python3.7/site-packages/h5py/_hl/dataset.py:313: H5pyDeprecationWarning: dataset.value has been deprecated. Use dataset[()] instead.\n",
      "  \"Use dataset[()] instead.\", H5pyDeprecationWarning)\n",
      "     5228899 [utilities.py:        detrend_df_f():347] [10823] Background components not present. Results should not be interpreted as DF/F normalized but only as detrended.\n",
      "/home/qiushou/.conda/envs/caiman/lib/python3.7/site-packages/h5py/_hl/dataset.py:313: H5pyDeprecationWarning: dataset.value has been deprecated. Use dataset[()] instead.\n",
      "  \"Use dataset[()] instead.\", H5pyDeprecationWarning)\n",
      "     5442639 [utils.py:recursively_save_dict_contents_to_group():447] [10823] A is sparse ****\n",
      "     5448177 [utils.py:recursively_save_dict_contents_to_group():414] [10823] g is an object type\n",
      "     5448185 [utils.py:recursively_save_dict_contents_to_group():422] [10823] ['groups', 'idx_tot', 'ind_A', 'Ab_epoch', 'coordinates', 'loaded_model', 'optional_outputs', 'merged_ROIs', '** not saved']\n",
      "     5448186 [utils.py:recursively_save_dict_contents_to_group():422] [10823] ['groups', 'idx_tot', 'ind_A', 'Ab_epoch', 'coordinates', 'loaded_model', 'optional_outputs', 'merged_ROIs', '** not saved']\n",
      "     5449774 [utils.py:recursively_save_dict_contents_to_group():422] [10823] ['groups', 'idx_tot', 'ind_A', 'Ab_epoch', 'coordinates', 'loaded_model', 'optional_outputs', 'merged_ROIs', '** not saved']\n"
     ]
    },
    {
     "name": "stdout",
     "output_type": "stream",
     "text": [
      "No file named result.hdf5 in /media/qiushou/Seagate Backup Plus Drive/Miniscope_Chenhaoshan/Results_191125/20190930_165645\n",
      "Done 191125\n"
     ]
    },
    {
     "name": "stderr",
     "output_type": "stream",
     "text": [
      "/home/qiushou/.conda/envs/caiman/lib/python3.7/site-packages/h5py/_hl/dataset.py:313: H5pyDeprecationWarning: dataset.value has been deprecated. Use dataset[()] instead.\n",
      "  \"Use dataset[()] instead.\", H5pyDeprecationWarning)\n",
      "     5458103 [utilities.py:        detrend_df_f():347] [10823] Background components not present. Results should not be interpreted as DF/F normalized but only as detrended.\n",
      "/home/qiushou/.conda/envs/caiman/lib/python3.7/site-packages/h5py/_hl/dataset.py:313: H5pyDeprecationWarning: dataset.value has been deprecated. Use dataset[()] instead.\n",
      "  \"Use dataset[()] instead.\", H5pyDeprecationWarning)\n",
      "     5547045 [utils.py:recursively_save_dict_contents_to_group():447] [10823] A is sparse ****\n",
      "     5549594 [utils.py:recursively_save_dict_contents_to_group():414] [10823] g is an object type\n",
      "     5549617 [utils.py:recursively_save_dict_contents_to_group():422] [10823] ['groups', 'idx_tot', 'ind_A', 'Ab_epoch', 'coordinates', 'loaded_model', 'optional_outputs', 'merged_ROIs', '** not saved']\n",
      "     5549618 [utils.py:recursively_save_dict_contents_to_group():422] [10823] ['groups', 'idx_tot', 'ind_A', 'Ab_epoch', 'coordinates', 'loaded_model', 'optional_outputs', 'merged_ROIs', '** not saved']\n",
      "     5550346 [utils.py:recursively_save_dict_contents_to_group():422] [10823] ['groups', 'idx_tot', 'ind_A', 'Ab_epoch', 'coordinates', 'loaded_model', 'optional_outputs', 'merged_ROIs', '** not saved']\n",
      "/home/qiushou/.conda/envs/caiman/lib/python3.7/site-packages/h5py/_hl/dataset.py:313: H5pyDeprecationWarning: dataset.value has been deprecated. Use dataset[()] instead.\n",
      "  \"Use dataset[()] instead.\", H5pyDeprecationWarning)\n",
      "     5554080 [utilities.py:        detrend_df_f():347] [10823] Background components not present. Results should not be interpreted as DF/F normalized but only as detrended.\n",
      "/home/qiushou/.conda/envs/caiman/lib/python3.7/site-packages/h5py/_hl/dataset.py:313: H5pyDeprecationWarning: dataset.value has been deprecated. Use dataset[()] instead.\n",
      "  \"Use dataset[()] instead.\", H5pyDeprecationWarning)\n",
      "     5606300 [utils.py:recursively_save_dict_contents_to_group():447] [10823] A is sparse ****\n",
      "     5608024 [utils.py:recursively_save_dict_contents_to_group():414] [10823] g is an object type\n",
      "     5608029 [utils.py:recursively_save_dict_contents_to_group():422] [10823] ['groups', 'idx_tot', 'ind_A', 'Ab_epoch', 'coordinates', 'loaded_model', 'optional_outputs', 'merged_ROIs', '** not saved']\n",
      "     5608030 [utils.py:recursively_save_dict_contents_to_group():422] [10823] ['groups', 'idx_tot', 'ind_A', 'Ab_epoch', 'coordinates', 'loaded_model', 'optional_outputs', 'merged_ROIs', '** not saved']\n",
      "     5608508 [utils.py:recursively_save_dict_contents_to_group():422] [10823] ['groups', 'idx_tot', 'ind_A', 'Ab_epoch', 'coordinates', 'loaded_model', 'optional_outputs', 'merged_ROIs', '** not saved']\n"
     ]
    },
    {
     "name": "stdout",
     "output_type": "stream",
     "text": [
      "Done 191126\n"
     ]
    }
   ],
   "source": [
    "from scipy.io import savemat\n",
    "animals=['191082','191085','191086','191087','191125','191126']\n",
    "mainpath='/media/qiushou/Seagate Backup Plus Drive/Miniscope_Chenhaoshan'\n",
    "for animal in animals:\n",
    "    animalpath=os.path.join(mainpath,'Results_'+animal) \n",
    "    results=os.listdir(animalpath)\n",
    "    for result in results[:-1]:\n",
    "        #print(result)\n",
    "        \n",
    "        try:\n",
    "            resultFilename=os.path.join(os.path.join(animalpath,result),'result.hdf5')\n",
    "            cnm=cnmf.cnmf.load_CNMF(resultFilename)        \n",
    "            cnm.estimates.detrend_df_f()\n",
    "            cnm.estimates.deconvolve(cnm.params,dview=dview,dff_flag=True)\n",
    "            idx_accepted=cnm.estimates.idx_components\n",
    "\n",
    "            dff=cnm.estimates.F_dff[idx_accepted,:]\n",
    "            S_dff=cnm.estimates.S_dff[idx_accepted,:]\n",
    "\n",
    "            results_dict={\n",
    "                'dff':dff,\n",
    "                'S_dff':S_dff\n",
    "            }\n",
    "            cnm.save(os.path.join(os.path.join(animalpath,result),'result.hdf5'))\n",
    "            savemat(os.path.join(os.path.join(animalpath,result), 'ms_dff.mat'), {'ms_dff': results_dict})\n",
    "        except:\n",
    "            print('No file named result.hdf5 in '+ os.path.join(animalpath,result))    \n",
    "    print('Done '+animal)\n"
   ]
  },
  {
   "cell_type": "code",
   "execution_count": null,
   "metadata": {},
   "outputs": [],
   "source": [
    "os.path.join(os.path.join(animalpath,result), 'ms_dff.mat')"
   ]
  },
  {
   "cell_type": "code",
   "execution_count": null,
   "metadata": {},
   "outputs": [],
   "source": []
  }
 ],
 "metadata": {
  "kernelspec": {
   "display_name": "Python 3",
   "language": "python",
   "name": "python3"
  },
  "language_info": {
   "codemirror_mode": {
    "name": "ipython",
    "version": 3
   },
   "file_extension": ".py",
   "mimetype": "text/x-python",
   "name": "python",
   "nbconvert_exporter": "python",
   "pygments_lexer": "ipython3",
   "version": "3.7.1"
  }
 },
 "nbformat": 4,
 "nbformat_minor": 2
}
